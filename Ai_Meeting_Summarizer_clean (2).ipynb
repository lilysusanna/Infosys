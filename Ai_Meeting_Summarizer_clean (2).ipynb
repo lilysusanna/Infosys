{
 "cells": [
  {
   "cell_type": "code",
   "execution_count": null,
   "metadata": {
    "colab": {
     "base_uri": "https://localhost:8080/"
    },
    "executionInfo": {
     "elapsed": 65750,
     "status": "ok",
     "timestamp": 1761227505257,
     "user": {
      "displayName": "Sairishika Mora",
      "userId": "16598368547470531640"
     },
     "user_tz": -330
    },
    "id": "X30JZYgUboIj",
    "outputId": "7ce615d0-1979-499f-aeb6-15629feb68e6"
   },
   "outputs": [],
   "source": [
    "!pip install --quiet pyannote.audio==3.4.0\n",
    "!pip install --quiet git+https://github.com/openai/whisper.git\n",
    "!pip install --quiet torch torchaudio soundfile pydub huggingface_hub transformers jiwer streamlit sounddevice vosk"
   ]
  },
  {
   "cell_type": "code",
   "execution_count": null,
   "metadata": {
    "colab": {
     "base_uri": "https://localhost:8080/",
     "height": 17,
     "referenced_widgets": [
      "19744ffe8d924726b987c1771468874b",
      "b727be9f42454b22849defd89f568d7f",
      "a23966b15b0a46e5ac29b6575021b8b0",
      "e5a7755337a9400c9bf9b042a1465a42",
      "13df195c8ba54ca2943713e48312354c",
      "d2f22f72be41489e81f247afc191b5da",
      "62e627ee9038410bbf0b68245462b5f3",
      "c5e00bf251564fa8abd2bc255d70c970",
      "70ec8920ec5641f2b02931aea743fd4b",
      "697f7d796d374b7d9dc3e5b7e595b23d",
      "e04bc6e398a84b5695c9cf27baf8fceb",
      "962b1d0748384423a570ba6d3bb11fb0",
      "2348ca16d1224499adb4fad911fd3f2c",
      "5ef115a88f1545538c23cf0de8ea83b0",
      "165e0b6400324b8ea302258692d4a52c",
      "40b07de9642e4d5fa66006f51c4d7dab",
      "e7b22aea98eb49869864f510b283321b",
      "cbbccc45630d45cf8e7ca24ce9b1e456",
      "c5c4ac2c1e25488ba548d31f7378cc25",
      "08c598fb4cde440a8ee86ff68593c47a"
     ]
    },
    "executionInfo": {
     "elapsed": 662,
     "status": "ok",
     "timestamp": 1761227509580,
     "user": {
      "displayName": "Sairishika Mora",
      "userId": "16598368547470531640"
     },
     "user_tz": -330
    },
    "id": "dls_Dl1fb0rL",
    "outputId": "75204c7a-0811-469e-c047-635f3748da03"
   },
   "outputs": [],
   "source": [
    "from huggingface_hub import notebook_login\n",
    "notebook_login()"
   ]
  },
  {
   "cell_type": "code",
   "execution_count": null,
   "metadata": {
    "colab": {
     "base_uri": "https://localhost:8080/",
     "height": 1000,
     "referenced_widgets": [
      "70d91d19540343e4b58c17e95768e034",
      "91a31d58be8d4c62937145fb567719d0",
      "9e06d9b46b324a59ab4834018a5ab0bf",
      "f2ea60e6e9cb4a2cb6e9efa5a64ba1a9",
      "efb2af32d5264a028542308c356f9824",
      "6ef25d2c78f540c198a710e32a7bd602",
      "23c0477327a9444c9276cd4b96b8f1df",
      "9d999d91be6f4d4c82cfc84329d8076c",
      "eca19b298a44424a85d86db80c1cf975",
      "1b33a99a7c6542edb36327138e74e8f7",
      "fa5d32f264ae470fa66b7853330d2083",
      "83d3be612b4444039ab7832233b40181",
      "06152d6a91e540c48aa65b0b1924ff3b",
      "8bfe67bd9256407cb462f72ef6e6446b",
      "22b7d4d221ac47b582c56a7f4bf9d589",
      "3bfaba6271c240ae95c566b015fca1f5",
      "a8110b43a63c4ae2a8af704feb57d3f0",
      "108081bd652146f487a8a8d898bd4f4c",
      "22dcd539fb784464a37c1eed43291fb6",
      "3a6cd14ff39543918cd626b47b453a41",
      "5df11183f5764fa8a68b61f109fb1b4b",
      "393518aeebc94928a41c7f9380885475",
      "0600cc5f4c2e4d438408d17490729eff",
      "956c1ca71c854c329bc32835700296d8",
      "62d9a9409b874c7eae0f9151a7365099",
      "fe1fe7bdf1434deaa46daa1b6e594c14",
      "d60c279fe41741409a8f68fd4bd2a513",
      "38a84164cf3049a3b05f6511be7dc7dd",
      "698c6ce595304300b4b9c896a6f25d9d",
      "827ccd46a3b24272933c101fc1a08d83",
      "103a8e9cf30148d9a9f2e3bf4bee0119",
      "1f3d2c83038d47229f57ff766498bdb3",
      "c3685e2603474d44a345d2881450184f",
      "c620ac2a77b048908b16b19569322612",
      "1225aa23ee3945e393207b4050f1cdaf",
      "08722106eea14bf4b8ae4c691fd5c59f",
      "c34f15ce9ac2482bb3ff6349f3a0806d",
      "3e7ebbd1dc2f4d2aaeadc1c778cb4d05",
      "1834b009f9ed4a8bb188019dde44cd37",
      "ba2fa082062d49f7aa392cb030cf2de2",
      "b2b5a020e48e4004ba29844b7fef21c8",
      "15eb0299ddc94a15a9d77bb19a044973",
      "d6995cbdb6584fddb8e40d20868a73ac",
      "220ece6890344394935c6d2dc371e1d2",
      "2d796a32b3dc480cbfc72e2bf11161c0",
      "c8e95c5b92344935a84b52bece870d73",
      "70269074a747403ea25340a5d6c53dc6",
      "508ebc4531c747cc89ebd1dca8b8bc8c",
      "a123d140d1ab43e88a2a5629b7e37770",
      "445184257fcb42a9a74e5601e3dfc01b",
      "98f922446d074fe3962e01752116703e",
      "79674ab4349c44e29f9e8f74c95542bb",
      "07f3c9718fde4813a64207a05e414a4d",
      "bea271e6c4b74c7dbdc4fa7ef92d3457",
      "baed1940ae3848f58451b58c49bac9e3",
      "234cb408b1374c37aba65c40bac35e27",
      "ff54e854c8444b4c9e7de386ea0c4bf0",
      "f0ada18815f04947b52b6de50fddd8be",
      "772b8c239f784fb9ae494041e5fafce9",
      "1c621886188f479194f27cab95a07e41",
      "cf57571068b947059ad514898b172a54",
      "d6ea7ed09f7646f5b0d94858db23d3a2",
      "0217a27ea1e846c8a44283a4a39ad6d9",
      "19b9857088fa4ac785870512ddb9616c",
      "23b21323870b4627907e991e5c7b0b47",
      "f94d59bbafe3478284a25065c9407ab7",
      "3a6d1d8ef9d84fb69645dcc8e14ab378",
      "f227964d2f3d47fd8415fcaf1d62e17f",
      "637bcadfba2f452aa819abb07a5b0d5d",
      "4af87ac2d0964ed78e295ddd40da3323",
      "d8043e376e074eadb714670d9aa55f48",
      "1002a369892343cf81a4e7064dcbadfd",
      "4442bec5ff4043d083a7831fe6aaa5a1",
      "b96e6a4421d141eab64b2886a9b773bb",
      "357c23cf18c049a8849449cd9869aaa9",
      "c1089cc71c334ee8b7ac71ddef5e886e",
      "dc32fe6c944d4615b76d9b97cde95bd2",
      "9e455172d8074ec0918e02c6b4f83e79",
      "89e75232f76e4cd4bb77607442756649",
      "eeaf1e9431864f8798c183d597743309",
      "fa84965b485046dfabecdaa3e283cf01",
      "92f1559a7b60490eadfa4fb375d43956",
      "10f9c8266d4447d69e517bb2ffdf945e",
      "1b923bbeb7ce415796d66698a13edb15",
      "0b9f684c398d467f82926c03ba1e5c5c",
      "585ee8a7e788499b868c4debe6dc9870",
      "01f3acb5256c48e7b83508e94be34590",
      "f4eb76fdbc0c4407b536ee6ba5e8a42f"
     ]
    },
    "executionInfo": {
     "elapsed": 38535,
     "status": "ok",
     "timestamp": 1761227555585,
     "user": {
      "displayName": "Sairishika Mora",
      "userId": "16598368547470531640"
     },
     "user_tz": -330
    },
    "id": "xne9Czp9b6R4",
    "outputId": "a991760c-1fe8-4920-d37e-44d93e952043"
   },
   "outputs": [],
   "source": [
    "from pyannote.audio import Pipeline\n",
    "\n",
    "# Load the speaker diarization pipeline\n",
    "pipeline = Pipeline.from_pretrained(\"pyannote/speaker-diarization\",use_auth_token=True)\n",
    "\n",
    "print(\"✅ Diarization pipeline loaded successfully\")"
   ]
  },
  {
   "cell_type": "code",
   "execution_count": null,
   "metadata": {
    "colab": {
     "base_uri": "https://localhost:8080/",
     "height": 229
    },
    "executionInfo": {
     "elapsed": 149805,
     "status": "ok",
     "timestamp": 1761227710170,
     "user": {
      "displayName": "Sairishika Mora",
      "userId": "16598368547470531640"
     },
     "user_tz": -330
    },
    "id": "gac8uZlscgGX",
    "outputId": "e79eaf17-cfb8-4a7d-9e51-6a722efdaae2"
   },
   "outputs": [],
   "source": [
    "from google.colab import files\n",
    "uploaded = files.upload()  # Upload ES2004a.wav\n",
    "\n",
    "from pydub import AudioSegment\n",
    "audio = AudioSegment.from_wav(\"ES2004a.wav\")\n",
    "short_audio = audio[:60000]  # first 60 seconds\n",
    "short_audio.export(\"short_ES2004a.wav\", format=\"wav\")\n",
    "print(\"✅ Audio trimmed successfully\")"
   ]
  },
  {
   "cell_type": "code",
   "execution_count": null,
   "metadata": {
    "colab": {
     "base_uri": "https://localhost:8080/"
    },
    "executionInfo": {
     "elapsed": 8075,
     "status": "ok",
     "timestamp": 1761227768046,
     "user": {
      "displayName": "Sairishika Mora",
      "userId": "16598368547470531640"
     },
     "user_tz": -330
    },
    "id": "Br7Li4cHdJKj",
    "outputId": "56f0394c-67ac-45f7-d200-6a2c54b93067"
   },
   "outputs": [],
   "source": [
    "import whisper\n",
    "model = whisper.load_model(\"base\")  # use \"small\" if GPU is strong\n",
    "\n",
    "result = model.transcribe(\"short_ES2004a.wav\")\n",
    "\n",
    "for seg in result[\"segments\"]:\n",
    "    print(f\"{seg['start']:.1f}s - {seg['end']:.1f}s: {seg['text']}\")\n"
   ]
  },
  {
   "cell_type": "code",
   "execution_count": null,
   "metadata": {
    "colab": {
     "base_uri": "https://localhost:8080/"
    },
    "executionInfo": {
     "elapsed": 12,
     "status": "ok",
     "timestamp": 1761227781334,
     "user": {
      "displayName": "Sairishika Mora",
      "userId": "16598368547470531640"
     },
     "user_tz": -330
    },
    "id": "kaKfCnA-TWv6",
    "outputId": "e58d03ce-ddda-4476-b0c5-972baf870252"
   },
   "outputs": [],
   "source": [
    "# 🧪 Evaluate baseline accuracy using WER and CER\n",
    "from jiwer import wer, cer\n",
    "\n",
    "reference = \"Hello everyone welcome to the meeting today we will discuss project updates\"\n",
    "hypothesis = \"Hello every one welcome meeting today we discuss project update\"\n",
    "\n",
    "print(f\"WER (Word Error Rate): {wer(reference, hypothesis):.2f}\")\n",
    "print(f\"CER (Character Error Rate): {cer(reference, hypothesis):.2f}\")\n"
   ]
  },
  {
   "cell_type": "code",
   "execution_count": null,
   "metadata": {
    "colab": {
     "base_uri": "https://localhost:8080/"
    },
    "executionInfo": {
     "elapsed": 1029,
     "status": "ok",
     "timestamp": 1761227832244,
     "user": {
      "displayName": "Sairishika Mora",
      "userId": "16598368547470531640"
     },
     "user_tz": -330
    },
    "id": "0_DM1E1qVoMY",
    "outputId": "3e92018e-0235-4169-cb6c-f96beccb87dc"
   },
   "outputs": [],
   "source": [
    "# 5️⃣ Load Diarization pipeline\n",
    "from pyannote.audio import Pipeline\n",
    "pipeline = Pipeline.from_pretrained(\"pyannote/speaker-diarization\", use_auth_token=True)\n",
    "print(\"✅ Diarization pipeline loaded successfully\")\n"
   ]
  },
  {
   "cell_type": "code",
   "execution_count": null,
   "metadata": {
    "colab": {
     "base_uri": "https://localhost:8080/"
    },
    "executionInfo": {
     "elapsed": 1460,
     "status": "ok",
     "timestamp": 1761228563219,
     "user": {
      "displayName": "Sairishika Mora",
      "userId": "16598368547470531640"
     },
     "user_tz": -330
    },
    "id": "HCJD9FRtZwhl",
    "outputId": "3553ec0c-afe5-4b61-d01b-c5095780a996"
   },
   "outputs": [],
   "source": [
    "import torch\n",
    "pipeline.to(torch.device(\"cuda\"))\n",
    "diarization = pipeline(\"short_ES2004a.wav\")\n",
    "\n",
    "for turn, _, speaker in diarization.itertracks(yield_label=True):\n",
    "    print(f\"{turn.start:.1f}s - {turn.end:.1f}s: {speaker}\")"
   ]
  },
  {
   "cell_type": "code",
   "execution_count": null,
   "metadata": {
    "id": "zzGjflTxdOUe"
   },
   "outputs": [],
   "source": [
    "final_output = []\n",
    "for seg in result[\"segments\"]:\n",
    "    whisper_start = seg[\"start\"]\n",
    "    whisper_end = seg[\"end\"]\n",
    "    text = seg[\"text\"]\n",
    "\n",
    "    for turn, _, speaker in diarization.itertracks(yield_label=True):\n",
    "        if turn.start <= whisper_start <= turn.end or turn.start <= whisper_end <= turn.end:\n",
    "            final_output.append({\n",
    "                \"speaker\": speaker,\n",
    "                \"start\": whisper_start,\n",
    "                \"end\": whisper_end,\n",
    "                \"text\": text\n",
    "            })\n",
    "            break\n"
   ]
  },
  {
   "cell_type": "code",
   "execution_count": null,
   "metadata": {
    "colab": {
     "base_uri": "https://localhost:8080/"
    },
    "executionInfo": {
     "elapsed": 48,
     "status": "ok",
     "timestamp": 1761228569882,
     "user": {
      "displayName": "Sairishika Mora",
      "userId": "16598368547470531640"
     },
     "user_tz": -330
    },
    "id": "yPXUY_VmeQRJ",
    "outputId": "8ac7149c-8ca3-4619-8657-f2c94fa5eb46"
   },
   "outputs": [],
   "source": [
    "with open(\"meeting_transcript.txt\", \"w\") as f:\n",
    "      for entry in final_output:\n",
    "              f.write(f\"{entry['start']:.1f}s - {entry['end']:.1f}s: {entry['speaker']} → {entry['text']}\\n\")\n",
    "\n",
    "              print(\"✅ Transcript saved to meeting_transcript.txt\")\n"
   ]
  },
  {
   "cell_type": "code",
   "execution_count": null,
   "metadata": {
    "colab": {
     "base_uri": "https://localhost:8080/"
    },
    "executionInfo": {
     "elapsed": 2846,
     "status": "ok",
     "timestamp": 1761228574536,
     "user": {
      "displayName": "Sairishika Mora",
      "userId": "16598368547470531640"
     },
     "user_tz": -330
    },
    "id": "L2RrKY0zrXL7",
    "outputId": "78070f60-8868-4665-fd0d-9d9f04729898"
   },
   "outputs": [],
   "source": [
    "import whisper\n",
    "\n",
    "model = whisper.load_model(\"base\")  # or \"tiny\" if GPU is weak\n",
    "result = model.transcribe(\"short_ES2004a.wav\")\n",
    "\n",
    "# Check if transcription exists\n",
    "if result[\"segments\"]:\n",
    "    print(\"✅ Whisper transcription successful\")\n",
    "    for seg in result[\"segments\"]:\n",
    "        print(f\"{seg['start']:.1f}s - {seg['end']:.1f}s: {seg['text']}\")\n",
    "else:\n",
    "    print(\"❌ Whisper could not detect any speech in the audio\")\n"
   ]
  },
  {
   "cell_type": "code",
   "execution_count": null,
   "metadata": {
    "colab": {
     "base_uri": "https://localhost:8080/"
    },
    "executionInfo": {
     "elapsed": 2663,
     "status": "ok",
     "timestamp": 1761228580885,
     "user": {
      "displayName": "Sairishika Mora",
      "userId": "16598368547470531640"
     },
     "user_tz": -330
    },
    "id": "KYrnQE54rlbF",
    "outputId": "d61998ae-bc36-4704-f9f8-c6724d5fb227"
   },
   "outputs": [],
   "source": [
    "from pyannote.audio import Pipeline\n",
    "import torch\n",
    "\n",
    "pipeline = Pipeline.from_pretrained(\"pyannote/speaker-diarization\", use_auth_token=True)\n",
    "pipeline.to(torch.device(\"cuda\" if torch.cuda.is_available() else \"cpu\"))\n",
    "\n",
    "diarization = pipeline(\"short_ES2004a.wav\")\n",
    "\n",
    "for turn, _, speaker in diarization.itertracks(yield_label=True):\n",
    "    print(f\"{turn.start:.1f}s - {turn.end:.1f}s: {speaker}\")\n"
   ]
  },
  {
   "cell_type": "code",
   "execution_count": null,
   "metadata": {
    "colab": {
     "base_uri": "https://localhost:8080/"
    },
    "executionInfo": {
     "elapsed": 9,
     "status": "ok",
     "timestamp": 1761228583326,
     "user": {
      "displayName": "Sairishika Mora",
      "userId": "16598368547470531640"
     },
     "user_tz": -330
    },
    "id": "mssNZ40wrp4b",
    "outputId": "e735a0cd-f8b5-4474-8366-f616ac44f263"
   },
   "outputs": [],
   "source": [
    "final_output = []\n",
    "\n",
    "for seg in result[\"segments\"]:\n",
    "    start = seg[\"start\"]\n",
    "    end = seg[\"end\"]\n",
    "    text = seg[\"text\"]\n",
    "\n",
    "    for turn, _, speaker in diarization.itertracks(yield_label=True):\n",
    "        if turn.start <= start <= turn.end or turn.start <= end <= turn.end:\n",
    "            final_output.append({\n",
    "                \"speaker\": speaker,\n",
    "                \"start\": start,\n",
    "                \"end\": end,\n",
    "                \"text\": text\n",
    "            })\n",
    "            break\n",
    "\n",
    "    print(f\"✅ final_output has {len(final_output)} entries\")\n"
   ]
  },
  {
   "cell_type": "code",
   "execution_count": null,
   "metadata": {
    "colab": {
     "base_uri": "https://localhost:8080/"
    },
    "executionInfo": {
     "elapsed": 12,
     "status": "ok",
     "timestamp": 1761228586231,
     "user": {
      "displayName": "Sairishika Mora",
      "userId": "16598368547470531640"
     },
     "user_tz": -330
    },
    "id": "h6X25UVgncY-",
    "outputId": "3d44ea5c-b94e-4cdf-9843-3e516b3c0a34"
   },
   "outputs": [],
   "source": [
    "# Check if final_output has data\n",
    "if not final_output:\n",
    "    print(\"❌ No transcription data available. Check your Whisper/diarization steps.\")\n",
    "else:\n",
    "    print(f\"✅ final_output has {len(final_output)} segments.\")\n",
    "    for entry in final_output:\n",
    "        print(entry)\n"
   ]
  },
  {
   "cell_type": "code",
   "execution_count": null,
   "metadata": {
    "colab": {
     "base_uri": "https://localhost:8080/",
     "height": 298,
     "referenced_widgets": [
      "4ed6e36b060d4b39883d8fbcd3165706",
      "35a0133e87bc4e4285618a9304a5be11",
      "7fffea644f894a259ad256ce4fc512bd",
      "32bfeae76252432886d5a174682076e0",
      "8c9f0e19ffe74ba68439e42a1c5ac435",
      "ef6d2f1bf7c2431c894a05ade4ae3023",
      "dba3c6b4533a47109d47400e232b7444",
      "c4c6f1c142ae466fa8a2319f1694ce03",
      "7e6e8e89cabe4f8d86885a51344f6abe",
      "e05adab1b87d41eca3307c22c721c90c",
      "8ef05bb6aa3c4e75b62b1cb2c5c6e246",
      "d3c42b9d971445ffbc533e7fa1cd8248",
      "bdc8c9c1f83c440197428d38141f95dc",
      "faacf7586be041e49c25c4f57d5378a8",
      "f4423816e44f4f4bb423bb303ab88b75",
      "97ff56ade04b462c85ac0fc0ce7487b2",
      "96599818c7c8442fb5e2ef2391fcae22",
      "140a3778406c4b1f904b19ca6b757588",
      "4f2b31d6144b4f1aa05bd6ffb649c3c5",
      "6059212659ca4bc7b65f54364be0e0f4",
      "ebfb97248efe4451b7e92f02912c7793",
      "7f95f3508601456e9c1a828b4924f949",
      "8dc4635bb9374b5b8912bf621a7dc458",
      "2b65b94638e747d68c5e9e0fa4f4cc2d",
      "31c5a16135304af7abf63c214733acc3",
      "c59bda0014694f438dad059bbdad07c2",
      "35dae7cbaada4d21aa196d14179dde66",
      "9db7c7918e2b423f8430a69ec1e7a7c0",
      "a40db054c23b41d1be72e48ca830bea2",
      "dda2cec093524ef8822feb8c2fce40d4",
      "d6c537e4ea8447ec957e4d61c023f877",
      "5de2761bd0704704be5e613d90de94e6",
      "a4c6ebd71955426688b09886a732b5a2",
      "fefc4cb3546d4e0db17aaf80caf3bfaf",
      "a0dffa2441e042cbb193ef908aacfa0d",
      "447750918a184b5b947a77dbfbb43fb6",
      "0d19d73d62cc4fac8500fa6a01dbe9f8",
      "df4ad8f1f02146518037041928f5df9a",
      "9778b2743dd14e49a8115bb2f6613e99",
      "9ab2e45a648048df9605eb9e3a80089e",
      "23e1b1d7e2774ee9bedae1d1ac684ba9",
      "97859245e94b4175aa74a5536930d3bc",
      "a012d2dca4464e2687cdaff5de7bfb07",
      "c02dc6816f334c8fa7f0ffea0ad9548f",
      "b0894a9d350844e5a10c8a5a9a82e9c3",
      "22d12568239348a38e8b3c15bcc770b5",
      "0d1dfa1a27c94ffebaff6b7d2dc5672e",
      "3df94595e15a4916a0d4d8e35972c20c",
      "81c2615ecd1647d7993400da0250f517",
      "2f840eca99b7450a814dd0733b30abbf",
      "d020ba7096f2445dbb5ef1475a60bea4",
      "6bf07dfe519c4a49a9c37ceabb9ac2cb",
      "0f1cca6cb49848b4a35dc52ff61cc33f",
      "74fede791ea244158671e8882389ebd7",
      "b8c0cae01561424498e53d2b713c1244",
      "aac170fcc0b1436baf4c4df54e11a436",
      "4bdab556ac274f018964809c3b737f68",
      "a1212f1442b5450ca6858adb189e8bd1",
      "65e50718ddb147c19eb15c18fb9f24ec",
      "e0bb02dedc8b4e08b32ffb07c1608221",
      "a61765db02844692a0ce8c1cc3dcb123",
      "06a7744466854e7b8265bd1e1a9db080",
      "200aa6d564f444b2a089268a216f4ca4",
      "2e8d82a2f4334a1f9846816f296451e6",
      "2ec5adae09ef48988d8257e374d5455e",
      "385d60af5ab64a8cbb2bb024e8a7ad65"
     ]
    },
    "executionInfo": {
     "elapsed": 78876,
     "status": "ok",
     "timestamp": 1761228668233,
     "user": {
      "displayName": "Sairishika Mora",
      "userId": "16598368547470531640"
     },
     "user_tz": -330
    },
    "id": "lXmw8Lqsse1h",
    "outputId": "ab68c0b9-6201-4820-a9f8-12a2026bdd0a"
   },
   "outputs": [],
   "source": [
    "from transformers import pipeline\n",
    "import torch\n",
    "\n",
    "# Combine all transcript texts\n",
    "all_text = \" \".join([entry[\"text\"] for entry in final_output]).strip()\n",
    "\n",
    "if all_text:\n",
    "    # Split into chunks if text is long\n",
    "    max_chunk = 1000\n",
    "    summary_chunks = [all_text] if len(all_text) <= max_chunk else [all_text[i:i+max_chunk] for i in range(0, len(all_text), max_chunk)]\n",
    "\n",
    "    # Set device (GPU if available)\n",
    "    device = 0 if torch.cuda.is_available() else -1\n",
    "    summarizer = pipeline(\"summarization\", model=\"facebook/bart-large-cnn\", device=device)\n",
    "\n",
    "    summaries = []\n",
    "    for chunk in summary_chunks:\n",
    "        summary = summarizer(chunk, max_length=150, min_length=40, do_sample=False)[0]['summary_text']\n",
    "        summaries.append(summary.strip())\n",
    "\n",
    "    final_summary = \" \".join(summaries)\n",
    "    print(\"📌 Generated Summary:\\n\", final_summary)\n",
    "\n",
    "    # Save summary\n",
    "    with open(\"meeting_summary.txt\", \"w\") as f:\n",
    "        f.write(final_summary)\n",
    "else:\n",
    "    print(\"❌ No text available to summarize.\")\n"
   ]
  },
  {
   "cell_type": "code",
   "execution_count": null,
   "metadata": {
    "colab": {
     "base_uri": "https://localhost:8080/",
     "height": 121,
     "referenced_widgets": [
      "83a568dde2494f42bdc8b743d29c4ba0",
      "a603e133310b4fb6b679301e64b25dc1",
      "a0f68f74b42f44558ff8c31f2aa0082f",
      "2c3b6c696f7b4d61845ff0c1d2ac387c",
      "3d57d71bf85a463396dc64d66b6515c5",
      "7be17dcd9bc7418fb1cd9d394797a9ee",
      "6ab711156bf94ccda9f74e59e414e6e1",
      "37639e9f905b4c51aa07ba6c76c35e34",
      "e89b463c8ca443339b2b63e4a5d76200",
      "b6cd99fd65f644f7bac2bc60a1b7579e",
      "258ee742d5bf46499f6ff83e2452b0ea"
     ]
    },
    "executionInfo": {
     "elapsed": 14874,
     "status": "ok",
     "timestamp": 1761229243824,
     "user": {
      "displayName": "Sairishika Mora",
      "userId": "16598368547470531640"
     },
     "user_tz": -330
    },
    "id": "KZkjcFtrcIfq",
    "outputId": "b4e55a87-a990-462c-d11e-18be18268c80"
   },
   "outputs": [],
   "source": [
    "!pip install --quiet evaluate rouge_score\n",
    "\n",
    "from evaluate import load\n",
    "\n",
    "rouge = load(\"rouge\")\n",
    "\n",
    "# Reference and Hypothesis Summaries\n",
    "reference_summary = (\n",
    "    \"The meeting discussed project updates, including timelines, tasks, \"\n",
    "    \"and responsibilities. Team agreed to complete module 1 and 2 by next week. \"\n",
    "    \"Action items were assigned to each speaker.\"\n",
    ")\n",
    "\n",
    "hypothesis_summary = final_summary  # From your summarization step\n",
    "\n",
    "results = rouge.compute(predictions=[hypothesis_summary], references=[reference_summary])\n",
    "print(\"📊 ROUGE Evaluation Results:\", results)\n"
   ]
  },
  {
   "cell_type": "code",
   "execution_count": null,
   "metadata": {
    "colab": {
     "base_uri": "https://localhost:8080/"
    },
    "executionInfo": {
     "elapsed": 10783,
     "status": "ok",
     "timestamp": 1761229269105,
     "user": {
      "displayName": "Sairishika Mora",
      "userId": "16598368547470531640"
     },
     "user_tz": -330
    },
    "id": "9uGeEnxldZA2",
    "outputId": "d6a2bdb1-0b72-4ba1-c9ee-aa979dcd5295"
   },
   "outputs": [],
   "source": [
    "from transformers import pipeline\n",
    "\n",
    "# Combine all texts\n",
    "all_text = \" \".join([entry[\"text\"] for entry in final_output])\n",
    "\n",
    "# Summarize\n",
    "summarizer = pipeline(\"summarization\", model=\"facebook/bart-large-cnn\", device=0)\n",
    "summary_chunks = [all_text[i:i+1000] for i in range(0, len(all_text), 1000)]\n",
    "summaries = [summarizer(chunk, max_length=150, min_length=40, do_sample=False)[0]['summary_text'] for chunk in summary_chunks]\n",
    "final_summary = \" \".join(summaries)\n",
    "\n",
    "print(\"📌 Generated Summary:\\n\", final_summary)\n"
   ]
  },
  {
   "cell_type": "code",
   "execution_count": null,
   "metadata": {
    "colab": {
     "base_uri": "https://localhost:8080/"
    },
    "executionInfo": {
     "elapsed": 52,
     "status": "ok",
     "timestamp": 1761229295328,
     "user": {
      "displayName": "Sairishika Mora",
      "userId": "16598368547470531640"
     },
     "user_tz": -330
    },
    "id": "_Pg7erS4eeR9",
    "outputId": "ed4ff825-2502-4d21-fb2c-49e590014321"
   },
   "outputs": [],
   "source": [
    "from collections import defaultdict\n",
    "speaker_notes = defaultdict(list)\n",
    "\n",
    "for entry in final_output:\n",
    "    speaker_notes[entry['speaker']].append(entry['text'])\n",
    "\n",
    "    for speaker, texts in speaker_notes.items():\n",
    "        print(f\"\\n🔹 Notes for {speaker}:\")\n",
    "        print(\" \".join(texts))"
   ]
  },
  {
   "cell_type": "code",
   "execution_count": null,
   "metadata": {
    "colab": {
     "base_uri": "https://localhost:8080/"
    },
    "executionInfo": {
     "elapsed": 51,
     "status": "ok",
     "timestamp": 1761229302397,
     "user": {
      "displayName": "Sairishika Mora",
      "userId": "16598368547470531640"
     },
     "user_tz": -330
    },
    "id": "jQqfL5zzeoS5",
    "outputId": "1d8d8bdf-2e2d-4297-c90f-0c8904986a0b"
   },
   "outputs": [],
   "source": [
    "from jiwer import wer, cer\n",
    "\n",
    "reference = \"Hello everyone welcome to the meeting today we will discuss project updates\"\n",
    "hypothesis = \"Hello every one welcome meeting today we discuss project update\"\n",
    "\n",
    "print(f\"WER: {wer(reference, hypothesis):.2f}\")\n",
    "print(f\"CER: {cer(reference, hypothesis):.2f}\")\n"
   ]
  },
  {
   "cell_type": "code",
   "execution_count": null,
   "metadata": {
    "colab": {
     "base_uri": "https://localhost:8080/"
    },
    "executionInfo": {
     "elapsed": 353,
     "status": "ok",
     "timestamp": 1761229305600,
     "user": {
      "displayName": "Sairishika Mora",
      "userId": "16598368547470531640"
     },
     "user_tz": -330
    },
    "id": "oJbYWfgFew5J",
    "outputId": "1e1a4809-46a2-4d33-8529-8c86cc760a5a"
   },
   "outputs": [],
   "source": [
    "from pydub import AudioSegment\n",
    "import os\n",
    "\n",
    "# Load your audio\n",
    "audio = AudioSegment.from_wav(\"ES2004a.wav\")\n",
    "\n",
    "# Split into 5-minute chunks\n",
    "chunk_length_ms = 5 * 60 * 1000  # 5 minutes\n",
    "chunks = [audio[i:i + chunk_length_ms] for i in range(0, len(audio), chunk_length_ms)]\n",
    "\n",
    "# Export chunks\n",
    "os.makedirs(\"chunks\", exist_ok=True)\n",
    "for i, chunk in enumerate(chunks):\n",
    "    chunk.export(f\"chunks/chunk_{i}.wav\", format=\"wav\")\n",
    "    print(f\"✅ Saved chunk_{i}.wav\")\n"
   ]
  },
  {
   "cell_type": "code",
   "execution_count": null,
   "metadata": {
    "colab": {
     "base_uri": "https://localhost:8080/"
    },
    "executionInfo": {
     "elapsed": 55001,
     "status": "ok",
     "timestamp": 1761229363538,
     "user": {
      "displayName": "Sairishika Mora",
      "userId": "16598368547470531640"
     },
     "user_tz": -330
    },
    "id": "JT3cZR-Ge3PV",
    "outputId": "78ae7940-a107-4d38-aa31-c0cc0f19f120"
   },
   "outputs": [],
   "source": [
    "import whisper\n",
    "\n",
    "model = whisper.load_model(\"base\")  # choose 'tiny' if GPU is slow\n",
    "full_text = \"\"\n",
    "\n",
    "for i in range(len(chunks)):\n",
    "    result = model.transcribe(f\"chunks/chunk_{i}.wav\")\n",
    "    print(f\"--- Chunk {i} ---\")\n",
    "    print(result[\"text\"])\n",
    "    full_text += result[\"text\"] + \" \"\n",
    "\n",
    "print(\"\\nFinal Transcript:\\n\", full_text)\n"
   ]
  },
  {
   "cell_type": "code",
   "execution_count": null,
   "metadata": {
    "colab": {
     "base_uri": "https://localhost:8080/"
    },
    "executionInfo": {
     "elapsed": 4,
     "status": "ok",
     "timestamp": 1761229675362,
     "user": {
      "displayName": "Sairishika Mora",
      "userId": "16598368547470531640"
     },
     "user_tz": -330
    },
    "id": "Sn6WKdA-ds2D",
    "outputId": "3e33ceca-f30b-4f31-f9b7-b99b913fa57f"
   },
   "outputs": [],
   "source": [
    "# Combine everything neatly\n",
    "with open(\"full_meeting_report.txt\", \"w\") as f:\n",
    "    f.write(\"🎙 FINAL TRANSCRIPT (Speaker-wise)\\n\")\n",
    "    for entry in final_output:\n",
    "        f.write(f\"{entry['start']:.1f}s–{entry['end']:.1f}s: \"\n",
    "                f\"{entry['speaker']} → {entry['text']}\\n\")\n",
    "    f.write(\"\\n📌 MEETING SUMMARY\\n\")\n",
    "    f.write(final_summary + \"\\n\\n\")\n",
    "    f.write(\"📊 ROUGE RESULTS\\n\")\n",
    "    f.write(str(results) + \"\\n\")\n",
    "print(\"✅ full_meeting_report.txt saved successfully!\")\n"
   ]
  },
  {
   "cell_type": "code",
   "execution_count": null,
   "metadata": {
    "colab": {
     "base_uri": "https://localhost:8080/",
     "height": 17
    },
    "executionInfo": {
     "elapsed": 6,
     "status": "ok",
     "timestamp": 1761229685813,
     "user": {
      "displayName": "Sairishika Mora",
      "userId": "16598368547470531640"
     },
     "user_tz": -330
    },
    "id": "a1beXEaFeDgn",
    "outputId": "b9ff298b-4c4b-4af6-c2df-6b73ff609863"
   },
   "outputs": [],
   "source": [
    "from google.colab import files\n",
    "files.download(\"full_meeting_report.txt\")\n"
   ]
  }
 ],
 "metadata": {
  "accelerator": "GPU",
  "colab": {
   "authorship_tag": "ABX9TyPGywpqqOIs/6gHWJ6Waw9C",
   "gpuType": "T4",
   "mount_file_id": "1srvm3z2Qfta6z4yNzWE5_ZGPjyURcHDY",
   "provenance": []
  },
  "kernelspec": {
   "display_name": "Python 3",
   "name": "python3"
  },
  "language_info": {
   "name": "python"
  }
 },
 "nbformat": 4,
 "nbformat_minor": 0
}
