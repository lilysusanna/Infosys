{
  "nbformat": 4,
  "nbformat_minor": 0,
  "metadata": {
    "colab": {
      "provenance": [],
      "gpuType": "T4"
    },
    "kernelspec": {
      "name": "python3",
      "display_name": "Python 3"
    },
    "language_info": {
      "name": "python"
    },
    "accelerator": "GPU"
  },
  "cells": [
    {
      "cell_type": "code",
      "execution_count": null,
      "metadata": {
        "colab": {
          "base_uri": "https://localhost:8080/"
        },
        "id": "n4vIPMuzdujG",
        "outputId": "86ef327f-451c-49bd-c684-12acad0904d4"
      },
      "outputs": [
        {
          "output_type": "stream",
          "name": "stdout",
          "text": [
            "  Preparing metadata (setup.py) ... \u001b[?25l\u001b[?25hdone\n",
            "\u001b[2K   \u001b[90m━━━━━━━━━━━━━━━━━━━━━━━━━━━━━━━━━━━━━━━━\u001b[0m \u001b[32m7.2/7.2 MB\u001b[0m \u001b[31m90.0 MB/s\u001b[0m eta \u001b[36m0:00:00\u001b[0m\n",
            "\u001b[2K   \u001b[90m━━━━━━━━━━━━━━━━━━━━━━━━━━━━━━━━━━━━━━━━\u001b[0m \u001b[32m3.2/3.2 MB\u001b[0m \u001b[31m89.2 MB/s\u001b[0m eta \u001b[36m0:00:00\u001b[0m\n",
            "\u001b[?25h  Building wheel for srt (setup.py) ... \u001b[?25l\u001b[?25hdone\n",
            "  Installing build dependencies ... \u001b[?25l\u001b[?25hdone\n",
            "  Getting requirements to build wheel ... \u001b[?25l\u001b[?25hdone\n",
            "  Preparing metadata (pyproject.toml) ... \u001b[?25l\u001b[?25hdone\n",
            "  Building wheel for openai-whisper (pyproject.toml) ... \u001b[?25l\u001b[?25hdone\n"
          ]
        }
      ],
      "source": [
        "!pip install -q vosk jiwer\n",
        "!pip install -q git+https://github.com/openai/whisper.git\n",
        "!apt-get -y install ffmpeg >/dev/null"
      ]
    },
    {
      "cell_type": "code",
      "source": [
        "AMI_AUDIO_DIR = \"/content\"  # uploaded files land here\n"
      ],
      "metadata": {
        "id": "Wj5lEFPbhHmb"
      },
      "execution_count": null,
      "outputs": []
    },
    {
      "cell_type": "code",
      "source": [
        "import glob, os\n",
        "wav_files = sorted(glob.glob(os.path.join(AMI_AUDIO_DIR, \"**/*.wav\"), recursive=True))\n",
        "print(f\"Found {len(wav_files)} wav files\")\n",
        "print(wav_files[:5])\n"
      ],
      "metadata": {
        "colab": {
          "base_uri": "https://localhost:8080/"
        },
        "id": "SbRPpxEDhRUJ",
        "outputId": "d59432cd-386e-4f33-f435-fe9d9befa425"
      },
      "execution_count": null,
      "outputs": [
        {
          "output_type": "stream",
          "name": "stdout",
          "text": [
            "Found 1 wav files\n",
            "['/content/EN2002a.wav']\n"
          ]
        }
      ]
    },
    {
      "cell_type": "code",
      "source": [
        "import os, shutil\n",
        "\n",
        "# Make refs folder for reference transcripts\n",
        "os.makedirs(\"refs\", exist_ok=True)\n",
        "\n",
        "# Rename your uploaded transcript to match the audio file\n",
        "shutil.copy(\"meeting_transcript_for_summarizer.txt\", \"refs/EN2002a.txt\")\n",
        "\n",
        "print(\"Transcript saved as refs/EN2002a.txt\")\n"
      ],
      "metadata": {
        "colab": {
          "base_uri": "https://localhost:8080/"
        },
        "id": "0kCne26cIuHS",
        "outputId": "a6717948-d1c9-47a2-f389-c9254976e382"
      },
      "execution_count": null,
      "outputs": [
        {
          "output_type": "stream",
          "name": "stdout",
          "text": [
            "Transcript saved as refs/EN2002a.txt\n"
          ]
        }
      ]
    },
    {
      "cell_type": "code",
      "source": [
        "import wave, json\n",
        "from vosk import Model, KaldiRecognizer\n",
        "\n",
        "vosk_model = Model(\"vosk-model-small-en-us-0.15\")\n",
        "\n",
        "def transcribe_vosk(path):\n",
        "    wf = wave.open(path, \"rb\")\n",
        "    rec = KaldiRecognizer(vosk_model, wf.getframerate())\n",
        "    rec.SetWords(True)\n",
        "    text = \"\"\n",
        "    while True:\n",
        "        data = wf.readframes(4000)\n",
        "        if len(data) == 0:\n",
        "            break\n",
        "        if rec.AcceptWaveform(data):\n",
        "            res = json.loads(rec.Result())\n",
        "            text += res.get(\"text\", \"\") + \" \"\n",
        "    res = json.loads(rec.FinalResult())\n",
        "    text += res.get(\"text\", \"\")\n",
        "    return text.strip()\n"
      ],
      "metadata": {
        "id": "9NlcqRNmJLnY"
      },
      "execution_count": null,
      "outputs": []
    },
    {
      "cell_type": "code",
      "metadata": {
        "id": "9d575494"
      },
      "source": [
        "# Download the Vosk model\n",
        "!wget -q https://alphacephei.com/vosk/models/vosk-model-small-en-us-0.15.zip\n",
        "!unzip -q vosk-model-small-en-us-0.15.zip"
      ],
      "execution_count": null,
      "outputs": []
    },
    {
      "cell_type": "code",
      "source": [
        "import whisper\n",
        "model_whisper = whisper.load_model(\"base\")  # use \"small\" or \"medium\" for better quality\n",
        "\n",
        "def transcribe_whisper(path):\n",
        "    result = model_whisper.transcribe(path)\n",
        "    return result[\"text\"].strip()\n"
      ],
      "metadata": {
        "id": "WbtbuL7yJPHj",
        "colab": {
          "base_uri": "https://localhost:8080/"
        },
        "outputId": "33c9fc43-9c3c-4bd3-f951-e3a78b82c01f"
      },
      "execution_count": null,
      "outputs": [
        {
          "output_type": "stream",
          "name": "stderr",
          "text": [
            "100%|███████████████████████████████████████| 139M/139M [00:01<00:00, 93.8MiB/s]\n"
          ]
        }
      ]
    },
    {
      "cell_type": "code",
      "source": [
        "audio_file = \"EN2002a.wav\"  # make sure your audio is uploaded to /content\n",
        "\n",
        "vosk_text = transcribe_vosk(audio_file)\n",
        "whisper_text = transcribe_whisper(audio_file)\n",
        "\n",
        "# Print full transcripts\n",
        "print(\"Vosk Transcript:\\n\", vosk_text)\n",
        "print(\"\\nWhisper Transcript:\\n\", whisper_text)\n"
      ],
      "metadata": {
        "colab": {
          "base_uri": "https://localhost:8080/"
        },
        "id": "6JCYEWPkD--o",
        "outputId": "f0f0579e-4b42-4c78-9210-87b79030c346"
      },
      "execution_count": null,
      "outputs": [
        {
          "output_type": "stream",
          "name": "stdout",
          "text": [
            "Vosk Transcript:\n",
            " going to come to the meetings as talking about the stuff with the meetings yeah nevertheless the here get certificate right so we really need to talk about the bodies are we just go around and everyone says what they what they've been doing that without anything live say yeah sounds like you've done i could do that i've got a browser now which whoops no good stuff and of mine as well if if given this this wasn't a good start okay sorry yeah say yeah we've got browser read which comes up automatically with or transcription box and the topics and then when you go on the menu you can select some ization box which pops up and an audio player one am and as i think search works as well say pop up a search and loads up just the background when nice empty and so when you start you have to either open open up seek the observation or do such an open it through that that make sense em the transcription boss has got a summarize book button which doesn't do anything it i am now i wonder how we wanna do you know we want to pop up window with the a characterization i didn't either we could do that in a when does a pop up come either we can when you click on the the id any sort of id in the transcription box or we can put an extra been x or few buttons nicer summarize button so that you are she in the transcription books but so are you click on a button and then the absence why not speak a characterization is the problem is the the left click is already used because it highlights that am that pass speech or whatever that more he's attacking the lifted over the last like highlights it will kill that they're looking for i don't know haven't when you don't like actually lobby be bit and or if you have left click for one thing and double click on the news i am i think so yeah when you left like it you can for example set set the mark of as that then the order goes from laughing i'm sorry can't put it on left think we could put it on the right click wicked for example have little many that pops up there are we because give us was i right click on it menu you know and you can click on speaker characterization of pops wonder what else could we have in the when you must a good point hannah realizes his and right your hotel am i don't know about uber a usually in windows right click is it would do anything is a a opens a menu menu union leaders way to be those in yeah the sit with my baby were before he artists double you know stuff here to just answering the same sort of it i'm thrilled yeah yeah them or just in our orders the button i guess a bet on that i'm makes a bit more sense cause otherwise you know really know that oh what if i have the right click know what happens then is well known or it is visual yeah the menus hello that well oh yeah is more obvious his name already a group isn't it is go back and good yeah yeah sir yeah more into his limousine is a great well we'll get we'll have more things are have you turn around to about new buttons have your were some and your main thing is mary more flexible hours yeah we're in a a guess in in a meeting browser one point work and you can have a menu instead of a perfect right thing is i will be timid actually what we do is on in that many as well we could have an option that pops up a window with all the or the meetings that that user has been in like a search for that user give that gonna be useful too much know i guess oh so why did pass the boot the money that comes down his says give you a meetings as yeah so when you're right click on it one one option will make him he only meetings characterize the speaker yet or that too much and when i guess a semi do it's more like part of the browsing sort of thing while then they speak it hurts it the recession as nasty mention know the really know how dare her involved the care to dance due to the nice have internet hack into can when he retired and with violent acts or something wrong speaker characterization and into an aunt just some way to sort of leverage other from a like we have it were doing it but what how does help the browsing her what can give us and you mean that those big bigger characterization oh well yeah i mean i don't know that i mean is the speaker characterizations bit like he said i mean it's like a nice thing we don't we're not sure what the user ones who it that is interesting so not when it came to him there my i think we should do area i mean i guess maybe we could have done as another thing of like while if he gets be correct asian that someone's talks lot in certain topic and then if you had an alt click on that topic you get for think that's in that topic or whatever yeah but not as nice they'll enter the level feathering when a man hit in either of them pop of the speak act as a senior in the raft first define what what happens when you click on a user with the speaker characterization first before we cause any of the so you tried to try to do right like when you then yet right while is artist from the mean don't even if anyone comes in particular we know what we want to sort of joke like if we're on the user's vs like topic or something have like yeah from for these various yet as wait yeah there's a second thing about the topics the topic window we won it somehow click be able to click on a topic and it pops up with all the meetings that contain that right him yeah so we could do that a similar way to right thing as well and it's this little different system thrown yeah i'm on the speaker set the on this law is a we have basically two options of of browsing that meetings is by either i'm searching and opening individual observations and when then we have the interlinking by right click basically actually yeah flickr i'm gonna come thing like we have a set up a some if you double click and goes to a defaulting on menu i mean that's kind of a typical color actionable think if you double click on a particular topic or something then goes to sort of like a default oh so it'll be like all the home keys of our topic either what are we decide the default to be whether it's in all meetings or just and one meeting and to shop for the particular instance is about topic in a meeting like and just think to have a default so if somebody knows exactly what they want to do when we know that that's most common thing that's gonna happen so the know how to answer say from the trouble of right clicking and choosing the item on the menu i see that anything obvious that was that would be about wonder that would get it might come to us start playing with until it was a or the inclines then the rain on like we have different the right click menu gm and you're right clicking but instead of like have a default double click so yeah it'll be a choice because i work for the most common drugs are used to double like ammo show their speak a characterization now rather than world that is the problem with lot of windows popping up again and they pop up without you even being quite sure what it is in a way yeah but if you do double click on something don't you expect something to happen then yeah i'm a of but so does it get like survey of our go away not having a have any closer he hey i'm not it's not in the less you very much pad he has he has if i'll check what it does on unnamed double click at the moment yonkers i think it does something but and thirty yard see that i hadn't a jury didn't see anything obvious that that me he can think of something that said guess it depends on the yeah what you're clicking on foot as i am yeah another thing single audio files do you want to use a minute we don't know yet the way they the humane single channel yeah physical challenge single channel files to we want them i mean probably not by we might need them for this vince's if we have be no idea i will you we might use them at the my will know but to work with them but do we want to integrate them so that when you browse he can we might want to be able to say oh just give me what that person say do they no longer make more sense if you listen to on eyes and they're less i'm you can't hear it for videos something so always talking on somebody else or something would you say note for note and put a lawyer yeah it because it was it will they will increase in our data need for local to hear the for probably peter  yeah what do people they in general that the windows cluttering the is mentioned to think we probably need that on top of the for flexibility we need to have that's what i've heard a song i mean i'm i'm very much i want have everything customizable an old the thing is typically though those someone to have five windows open and same time probably not probably not no to area of whatever to his little man look like when dialing yeah whatever but yeah it depends i mean i i really want to put the summary and somewhere you know and summary for example a typical you open the window you read through it you might click on close against right away yeah baby good thing as folks from better the while the currently i mean you probably don't know if you wanna have like the the full transcription and the summer same time i'm so maybe you can just like choose this same window for transcription and summary slick have a time there was also the have to have it was yeah that's a nice the it's like you have zero style as i am so hear another way that the that qaeda organizer the that where the here a behave every can rent so and from take the anything he really you are you doing the other they for the of a cripple job has been going to get the eight isn't sometimes level i can have look the we're just around but know that my between stove contents of the same window the i am transcription to summary didn't never even just our buttons on a toggle buttons or something on the toolbar the window something yeah we're they can grow doesn't doesn't have be a tab or whatever no no it could be like transcription plumber enough time to paris a new just the press on which marked on works even have you have never just algorithm windows needed wouldn't it and she's for your device photoshop as a lot when those reviews for chips got loads and you're always get forever guy know get out the way this way stuff in the ones on it louise evil guy use doing when neither windows an accelerometer you have a windows open he didn't manage them go trivia less kenny those was you can minimize them and stuff on yeah you can minimize katie that area look i was running a cushy candidacy is like lot of these can be like once we get to disclose his out and we can ya of transcript with of the just warranty transcript with a different to spongebob subtle that your that sort of using the same window and so we are there different going to be in the same when obama usually on what research was yeah that that was a plan for the defense it anyway so yeah do you want to do that with some reason but the some reason in the same when know matrix yeah well couldn't i know with transcripts it sounds reasonable to have like transcripts like maybe three also news then like rifle meeting meeting without discloses and summarize yeah economics and still no near so good  and finally the prototype he spoke about what kind of prototype could eat produce an end of february because i'm i'm just you know i going to the lab and i i want my going to change today hitting kind of jason peters develops not aiming for anything do we want a for something i'm pretty much get in there anyway to be honest stop and be a lot i guess it is a mean it just to china and i mean for us to to be able to do something that we can include with your thing so as are we only need you to get something to slightly more than just the on his own yeah i'm forgetting and yeah yeah just so see the integration where it's sort of between the up joe definitely so i guess that's what we need to do you think that's kind of way men those that without thing it thing it sort of started a stuff rather than to speak over the top of the gary yeah well of i guess a mean that was probably our intention but we might not have written it down he yeah actually is the code accessible like the the gory stuff or you've done and like can we just like copy likely to stuff out of your directory like if we're gonna just trying to take a look or something i don't know can i access lot of people can make you make it will redouble than anybody as if you just tell us the directory am just make the file readable their with know the director to getting them and yeah sure the maybe my i don't have as read about the movie i'm lucky by default the there are no the not worried about little know down below the run into felt then only you can read them but are you can see them but economy the after right i'll make that read a mullen here and say that directory is my number or he could just email to or can young young was is not did have a house your number hundred in all the emails your number no oh for like a for five or five six so that and oh four or five or five six say and then it's and then em there's a folder an analysis the system and it's called the m browser the m browser for me to him for meeting have you never have to look mother it to it's just pure chaos i really prefer is everything all the phone is a this series chaos further even episode that's me done someone else what to to their stuff title javelin could could tell you one of them this between take effect oh and i don't know a busy as started like browsing and bit just like china see if there's anything out there to use it sort of isn't what were you doing in him yeah search sir i'll start young young the next fits isn't on found a tutorial that a very certain indexing but it has a great way to address like that like i was behind the question just a murmur yeah how are you using code and stuff it as i write that down high for for yeah well i don't know if to supply i could have a little bit but i found some code for like from a tutorial about indexing who get so even if it doesn't let you can jiggery pokery around the making i'm getting there are probably started his mother file manager while agree yeah was around sources of nonsense with your bare basics is the earth as go years yeah so you think it should be too difficult i don't i am i was a bit worried about on well on it the talked about this way the file miss our fouls i mean ah months do we actually need to do like extracting things from the xml files and stuff to be able to do the indexing oh i see after converted to some sort of former space know i've been trying to right something to read the xml don't get rid of it and i can get rid of it bomb have a job going anywhere else so come up on the screen give further i would have managed to put it into a vector or wherever enjoy get to play with it but what a rain java or no longer the meals i just had a little have a look at the the browser cared than because you know they already extract for example transcripts yeah i'm sure they list here and to continue the oh yeah oh there's always a pools making a made of it you posted here oh yeah i guess i mean was a good point hat that like collaborating with foul things i mean if you're they started on on the idea stuff and absolutely you weaken should share as much as possible here libraries here though she we know meet up and see will begin to aiming or no see what you've done and see you what we need the we know why the heat maybe next week on them basic like yours sky to the ever done anything this week is this week's been married yet or clicks and visiting only two days on well where it was last week the the the week as as is rather than the proper way to that note a bit when it was pointless your nose canal pianists peter and that's why you have as for and then we had to do and i r p whether it was those were his were which is a your page on was quite difficult to a page yeah yeah oh yeah oh that would actually really he was wasn't heard about it was sad to see i don't think about it for a bit with his birth think he here as penalty he didn't so yeah i was thinking that we can probably go mentioned earlier numerous variously understand hopefully on something by next week that we can sort of trying to creating into the going and come here well stands for the browsers i use it now all as i know it was that when i took it m uses the am the nxt search to get the data have the out of hours which i think is odd but i'm not quite sure how it works and don't quite understand so when it when it to get the day tight for example to get some or ization data you have to search for i think the ideas or something yeah as picture is that yeah i guess is i was a got the the is razor so that in you know they don't say look in that not folder but a search everything the his poops hillary well they did say wasn't the most efficient then there's no doubt quite clever anything okay that night but it let it is it like a we know where you have to write a search queries it just what's behind it so are not as it were not the actual search this address when you open when you know to load the transcript for example yeah to find the transcripts from that meeting it does does see such for the string ironic transcript or mexican whatever for and it was like it just as an open very will transmit yes whatever find everything that's got the and the unload so i don't know if you looked at their search queries language by is like a dollar a year text say get yeah because that's the the bucket declares very bothers me a couple and then yeah because every every of all of these these files of got the an id and know the transcript father got to string i know what his words or text or something a so searches for those files what money what do you like you is there are open thingy or like for what did you do to like you how did you figure out that it's uses and the search like em is in em well it's in the code just got it you know it yet you define as search object and the outset that string had to figure out how to how to do something for summary that's our see i had to understand how to do the transcript how they did the transmit to do something was up to the gifted writer in the way the they wrote it is though he did yeah just search for specific strain on and so he could just you know you could use that when you if you wanna take the bait out fish to those was just thinking that you hill she have a a question about what the the code means all where to find the care that you want it you know whatever you want to do than just send me email i can explain it have you gonna take your code and oh yeah the nicely in the moment is got a load of rubbish because the them the browse the i used from this from you know that they gave us had a lot of excess stuff in and a half dead thrown out to throw all sorts of the have just a dirty doesn't matter if i could get perfect they're all in a it still a lot of rubbish bin will be get it will be checked out the anything coin coming to get out when bedtime reading it yeah yeah i'm not gonna make it sighs perfect it it's good for you who you a say we got kind this were really either they are and feels the of i'm in love in the show weekend that we can still four days on there are still in the vault with them outta here how many hours as as is it how much to death and were sitting five it takes explore any other how has your has your own oh god my razor disappear i got bigger ones best a rather am i supposed to do the summer as a sure thing about  you know who was doing you do are really just hit the lot other this can be i do that an i'm putting on doesn't matter of mean if if you want to analysis yeah playrooms max you're talking have some time one of his admitted if you to it causes should i pick to we not they get a good i didn't communications of which we had one exercise and have done that like two weeks ago not in in two weeks in for alex course yeah so i would like nigel nine causes ten or something season and then then on doing paolo programming languages and systems which we had one axises well in that scene like friday i'm not doing any background meaning if it isn't be here he have happy when this week is over heavy heavy you these courses that way get the was out about it on now and feels we need to discuss did you want to meet before we talked to steve next week while we'll probably get some work done would return so i know interview after the analogy or something where we just a little quick little updating just be i feel like they're gonna either side then exactly yeah i am so what what are you planning to do with the weekend and search and you gonna do the set the forever the why i can be done on well it'll be used to limited version of new the next query i'll be the whole thing i'm like we can just decide sort of things we do want to do what actually moves into style of acts on most was  in summary topics  she's in i think we need to set ourselves or milestones because otherwise you know donald get least will have idol now pretty quick like you're saying know what you do we want to set a date for interim prototype specifically it homeless or you decide i'm not doing much for president the progress report is june twenty third appearing of february sort of that two weeks yeah well how about we get it done by then i mean this year then we can write about it in the in an interim report notes you know cause a going show too who just looking at my own that lies see i'm for them or when the the search interface maybe you should decide pretty pretty early what kind of things you wanna be able to search for him and then if you want you can give that to me now are build your nice to know if you tick boxes and drop down menus wasn't like what you have no wasn't that pretty much what we know he done or was it joe that's back so on that doesn't exist i've never felt completely cut and pasted it didn't exist was a dumb moment what has it as a hit as i see all these are these only thing that makes for a man you know these drop down menus and tick boxes on it from google the screenshot google maybe you should make it access the it's gonna be a little difficult my yeah i mean i was going to bet you know the whole drop down menus and stuff what we want to search for is not quite agree don't have agreed on what we leona the able to search for most nor is it a service out on them over the weekend yeah you want to in enter does get together think about the different types of search we could possibly do and then and we could discuss their next meeting which options we really want to include i would probably involve researching the query language of as well to see what i can do you it will be nice to meet up and you can sort of show us a bit with you know already so we don't sort of of have to do although he can just like figure out stuff the basics i know already what just like accessing the corpus since though just like all and seeing the code and just sort of how just to the basics of what you've done or just give her a quick look over and just can take it for a tutorials and yeah the ah the class paths all over thing to say okay well here's yeah everything's base yes and abandoned jeff now interchange or privates the code nearly as go in the morning the some identity you got there that nothing is going down like that can happen any time cancer yeah like my schedule like a class break class break class yeah i'm not going to take an hour and i know i don't yeah i'm thinking so i feel like that and then if i a classic in run off to hear pick a time then oh yeah i'm you know when under my begun know what money next you know this money just anytime milestone in not at noon or two or four no in between those near one on three three o'clock as if you he was the result it was what times a the energy for the it's for i see one a day after after yeah that's not into deputy sure to good day l but we have some while what you for or three thirty and just one thousand nine million nine assists arabia in the in the keep your room in here and everything just as during their though if you thought you can again for know how younger key they can navigate we have get him through know through the the the if this computer games in here they msc be found that it is a movie ticket with you find may also you and let other within their we can look in her look now after work yeah he did a to have a cave for latest thing is though but to surfing on yeah somebody she was asking stephen put them where the weekend getting there whether you're gonna get us access into into work the computer hooker he is an ego is crap sitting about four five can beat in but it would do quite good for our job is it can also has no way of know with people in it i've done is are printing their to is written and is a photocopier with the code on any the well i don't let it go to ever heard of assignment we want to hit my computer gonna comments on projects so what time do is a i just thing is better to after his we have all the timing of the than having yeah for now and then all you everyone yeah no key as long as the analogy doesn't call late okay so that man's it won't matter as she's not even concerned it was how she didn't you know what she's talking to her maybe doesn't happen at all like misreading week next we should be it really lol it's supposed to be weaker next week it's we can read next week oh i don't think we have a reading window i don't know we have one class at least when we like speech perception we don't have any pictures but i think having a hit goal of the glasses though there's no point in having there was an official one last semester i think it was just a about call i was no something like i think some classes did in some first didn't yeah we shouldn't be guy that the you know that was i think the undergraduates head we're talking heads up to the professor whether they did it or not feeling too not like can work think the i'll probably have one to make up for missing classes what the aisle will probably yeah we will probably have a out now last week okay let me monday dumb jo oh i guess that's it was there anything else to anyone know you wanna like daycare this or should i take eric you can always trust him i don't know if there was something i think he basically said the same things as in the comments if i could read it you've either what happened i'm really want multiple windows from a single app who single epic movies will probably want to go with the fault out there was police and the are these comments are basing the same as when he says his movies are the other comment about whether you want to do both speaker characterization and topic segmentation was born with some help for the now we have seven percent of a day that is because so have you should take their cable so if you're okay with having he has president business sunny often it hurt she returned is often a walk for done now is she still you it's your here\n",
            "\n",
            "Whisper Transcript:\n",
            " I wonder how many meetings is talking about the stuff with the meetings. Yeah, yeah, yeah, yeah. Look at all these stuff, man. Okay. Right. So, what do we need to talk about? So, we just go around and everyone says what they've been doing. Is there anything we've done? No, not at all. Well, I'm sorry. Yeah. Okay, sounds like you've done something. Okay. Well, I've got a browser now, which... Whoops. All right, go. Good stuff. Mm-hmm. Oh, I dropped mine as well. Good at this. This wasn't a good start. Okay. So, yeah, we've got a browser, which comes up automatically with the transcription box and the topics. And then when you go on the menu, you can select the summarization box, which pops up and an audio player. Right. And I think the search works as well. So, pop up a search. And it loads up just the background window, so empty. And so, when you start, you have to either open a particular observation or do a search and open it through that. That like says. The transcription box has got a summarized button, which doesn't do anything yet. Now I wonder how we want to do... We want to pop up window with the speaker characterisation. Either we could do that when does the pop up come? Either we can... When you click on the ID, any sort of ID in the transcription box, or we can put an extra button, extra few buttons, next to the summarized button, so that you actually in the transcription box, but so that you click on the button and then it opens and it's whatever that speaker characterisation is. The problem is the left click is already used because it highlights that part of speech or whatever that. So, the left click, or the right click, it highlights it. So, that... I don't know what happens when you double click actually, without be bit in order if you have left click for one thing and double click for something like that. I think... So, yeah, when you left click it, you can for example set the marker there so that the audio goes from there, I think. So, we can't put it on left click. We could put it on the right click. We could for example have a little menu that pops up. Yeah, well, we can't get a nice one. So, right click on it menu, you know, and you can click on speaker characterisation with pops in there. What else can we have in there? Menu. That's a good point. I don't know. So, otherwise we just have right click on the other... Yeah, yeah, but I don't know about you, but usually in Windows, right click. Is it Windows? Do anything, does it? It opens a menu. Yeah, that's what anybody does. Yeah. So, but maybe it's just not bringing up stuff in there to just answer the same sort of idiom throughout. Yeah. Yeah. Or just the button. I guess the button makes a bit more sense because otherwise you don't really know that, oh, what if I right click now? What happens then? Well, no, it's not a menu. It's not a menu. Yeah. It's a bit more... Well, oh yeah. It's more obvious, isn't it? It's more like a proof, isn't it? It's got a button. Yeah, that's true. Yeah, it's more in two. But what? Well, it's more things like future than we have in the buttons. It's a bit more of a menu. Maybe. Maybe. More flexible. Yeah. Well, I guess in meeting browser 1.1, you can have a menu instead of a button. Right. This one is a bit... It's a bit too much. But actually, what we could do is in that menu as well, we could have an option that pops up a window with all the meetings that that user has been in, like a search for that user. Yeah. Is that going to be useful or too much? I guess so. So what part of the menu that comes down is says, give me all your meetings. Yeah. So when you right click on it, one option will be, give me all your meetings, characterise the speaker. Yep. Was that too much, I mean? I guess so. I mean, it's more like part of the browsing sort of thing more than the speaker character conversation. Yeah. Steve mentioned it. Yeah. Don't really know how to involve the speaker characters to the browser. Yeah. Maybe tie that in with dialogue acts or something as well. And the speaker characterisation, I don't know. Just some way to leverage that information. We have it. We're doing it. But what does it help the browsing or what can it give us? Well, you mean the speaker characterisation? Oh, well. Yeah. I don't know about that. I mean, the speaker characterisation is a bit like you said. I mean, it's like a nice thing. We're not actually sure what the user wants for that, but it's interesting. So why don't you give it time? Yeah, yeah. I think we should do it. Yeah. I mean, I guess maybe we could have that as another thing of like, well, if you get the speaker characterisation that someone talks a lot in a certain topic. And then if you click on that topic, you get everything that's in that topic. Yeah. And that's still another level further. I mean, we're not even there. No, no, no, no. The public speaker characterisation, yeah. We have to first define what happened when you click on a user. We have a speaker characterisation first, but we're crossing the other. Yeah. So should we try to do a right click when you then? Yeah. All right. Why not? It's not just from the main. Even if any one thing comes in. In a particular window, like if we want to sort of get, like if we're on the users versus like a topic or something, have a right click from for these various things. Wait, yeah, there's a second thing about the topics. The topic window. Were you on it somehow? Click, be able to click on the topic and it pops up with all the meetings that contain that. Right. Yeah. Yeah. So we could do that in a similar way. Do it right click as well. Okay. So this is for our system through. Yeah. On the speaker. So, yeah. This is what we have basically two options of browsing the meetings is by either. Searching and opening. Individual observations and when then we have the interlinking by right click. Actually, yeah, like another common thing like if we have it so set up that. If you double click and it goes to a default thing on the menu, I mean that's kind of a typical kind of. Double click. If you double click on a particular topic or something that it goes to sort of like a default. So it will be like all the. A case of that topic either whatever we decide the default to be whether it's in all meetings or just in one meeting and just show up the particular instances of that topic. Like and just think to have the default there. So if somebody knows exactly what they want to do and we know that that's the most common thing that's going to happen. So that they'll do that and just say from the trouble of right clicking and choosing the item on the menu. Obviously there's anything obvious that that would be about. That would be. It might come to us. Let's start playing with it. What was that? I think I understand you mean like we have the right click menu. Yeah, right click. But instead of like. How do you fall double click? So it'll be a choice. Because that was the most common. Yeah, exactly. Used double. Like I don't show the speaker character. Yeah, friends. Then there's the problem with a lot of windows popping up again and they pop up without you being quite sure what it is. Yeah. But if you do double click on something, don't you expect something to happen? Yeah, I mean sort of. So I'll tell you that right. I'll go away. Stop coming up. Other than the closet. Yeah. Yeah. It's not. It's nothing to the world. Especially if you have a touchpad. Yeah. Yeah. I'll check what it does on the double click at the moment. Yeah. Yeah. Okay. Good start. But I don't really don't see anything obvious that. I mean, if you can think of something. I guess I'll put in some. Yeah. What you're clicking on. Sorry. Yeah. Another thing. Single audio files. Do we want to use them or not? We don't know. Yeah. Do we? Do you mean single channel? Yeah. Single channel. The single channel files. Do we want them? I mean. Probably not. But we might need them for the experiences. If we try to do it in audio. Yeah. Yeah. We might use them in the world. No. To work with them. But do we want to integrate them so that when you browse, we can. And you might want to be able to say, oh, just give me what that person's saying. Do you, though? No. And he's not going to make much sense if you're listening to it. Do you? Unless you can't hear it properly or something. Somebody's talking over some of the else or something. We're just saying note for now and put it in my mouth. Yeah. Yeah. Yeah. Yeah. Because otherwise it will increase the amount of data we need. I'm not going to. Yeah. Yeah. What do people think in general about the Windows cluttering that you mentioned? Do you think we probably need that don't have the full flexibility we need to have that. That's what I feel. I mean, I'm very much. I want to have everything customizable. Well, the thing is typically though, is someone going to have five windows open at the same time. Probably not. Probably not. Two or three of whatever. Two or three of whatever. Whatever they're looking at. Like dial on that. Yeah. But yeah, it depends. I mean, I really want to put the summary in somewhere, you know. And in summary, for example, typical you open the window, you read through it. You might click on, you know, close it against right away. Yeah. But it'd be good. I think it's fine. But well, it couldn't be. I mean, you probably, I don't know if you want to have like the full transcription and the summary at the same time. So maybe you can just like choose the same window for transcription and summary. It's like having a town there. I was just going to have to have the performance. Yeah. Taps are nice. Yeah, tapping it. Like a gazillion style. Yeah. That's right. I'm not sure. Yeah. I don't know. Did anyone know how to do that? I can't do that. I don't know. I don't know. I can't do that. I'm sure. I'm sure. I'm sure you can do anything. You really need what you're doing. Yeah. So it's a bit of a cripple job as we're going to get the eight sometimes. It's a bit of a cripple. I can have a look. Yeah. Yeah. We're just, I don't know. But yeah, that might be not the same. Yeah. It might be not the same. It might be not the same. Yeah. Yeah. Yeah. Yeah. Yeah. Yeah. Yeah. We're even just have buttons on it. Talk about buttons or something on the toolbar. That wouldn't do. Yeah. Yeah. Yeah. Yeah. That could go. It doesn't have to be a cab or whatever. No. No. It could be like transcription summary. Yeah. Like two betters. And you just press on which one. Or checkmarks you can have. Yeah. That will reduce the number of windows. Yeah. Which is for you. So if I was, Photoshop has a lot of windows. If you have a used Photoshop, it's got loads and you're always good forever. And I'll get out of the way. There's always stuff in the way. Yeah. I don't want to. I don't want to be able to get used to it. I mean, when you use a windows or minutes, you have a lot of windows open. It's a matter of them. Yeah. Yeah. Yeah. Yeah. Unless Kenny, I don't know, especially you can minimize them and stuff like that. Yeah, you can't minimize them. Can you do that? Yeah, yeah. Okay. I was. Yeah. Of course you can. Yeah. Like a lot of these can be like once we get the displewances out, then we can, you know, I've transcript with the displew and see transcript with the different. Yeah, that's true. They're definitely sort of using the same window. Yeah, they're definitely going to be in the same window. And probably mutually. It's a good experience. Yeah, that was the plan for the displew. Yeah. So, yeah, do you want to do that with summaries and put the summaries in in the same window? Meet tree. Yeah. Well, I don't know, with transcripts, it sounds reasonable to have like transcripts, like maybe three alternatives then, like full meeting, meeting without displewances and suburites. Yeah. Yeah. Do you want to do that? Yeah. Yeah. Yeah, sounds good. And finally, the prototype is fake about what kind of prototype could be produced? What kind of prototype? Because I'm just, you know, I go into the lab and I say, what am I going to change today, you know? And it kind of just develops. It's not. It's not. It's not. It's not. It's not. It's not. It's not. It's not. It's not. It's not. It's not. It's not. It's not. It's not. It's not. I guess it is. I mean, just to try and, I mean, for us to be able to do something that we can include with your thing. Yeah, that's what we need to do. Something just slightly more than just that on the side. Yeah. Yeah. Yeah. Just so see the integration works. Sort of between the different couple. Yeah. Definitely. So I guess that's what we need to be talking about. Yeah. I think that's kind of way meant as well as really interesting it. Yeah. Sort of start to do stuff rather than just pee. I'm trying to type it through the GUI. Yeah. Well, I guess, I mean, that was probably our intention, but we might not have written it down. Yeah. I know. Yeah. Actually, is the code accessible like the GUI stuff that you done, like, can we just, like, like the latest stuff out of your director. Like if we're gonna just try and take a look or something. I don't know, can we access other people's things? If you make it world-readable then anybody can. If you just tell us the directory and just make the file readable then we know the directory to get in then. Yeah, sure. I don't know if it's readable at the moment, but you can show it up. If you buy default, they are. No, they're not world-readable. They're not done with default. They're only default, then only you can read them. All right. You can see them, but you can't read them. Okay. All right. Well, I'll make that readable then. Yeah. So the directory is my number. Or you could just email. Okay. Yeah. Well, it's not difficult. What's your number? Okay. It's in all the emails. Yeah. Your number. Not 04. Okay. 04. 5, 5, 5. 6, 0. 2, then again. 04. 04. 04. 5, 5, 5, 6, 0. And then it's. And then there's a file. And it's called the embrowser. The embrowser. Yes. I want to em for museum. Hopefully you never have to look in my directory. It's just pure chaos. No, I'm extremely ugly. I've got all the so-and-thing I'll have fun. The mind is serious chaos. Yeah, so that's me then. Someone else wants to talk about this stuff. Tiny jump or when? I can tell you what I've done in SB 2. So I don't know. I started like browsing a bit. browsing a bit just like trying to see if there's anything out there to use it sort of Just what were you doing again? Yeah, search for it. Yeah Yeah Okay, found a tutorial but Inverted search indexing but I haven't read it yet Like that was behind the question chest Oh, yeah, we're using code in stuff and just like All right, yeah, well I don't know if it's usable I can have a look at it But I found some code for like from a tutorial about indexing. Oh cool. So even if it doesn't work you can Degree put great around and make it around Yeah, probably stuff to do some other file management Yeah, yeah, yeah, this is a nonsense, but yeah, but basics is it okay? Yeah So you think you shouldn't be too difficult I don't know I was a bit worried about one Well, when he talked about this with the file Listen, I would files I mean how much do we actually need to do like extracting things from the XML files and stuff to be able to do the mixing? Oh, I see Yeah, I've been trying to Write something to read the XML And get rid of it and I can get rid of it, but I'm having trouble pointing anywhere else So come up on the screen Further moment I haven't managed to put it into a vector or whatever and Java Okay, are you ringing Java? I mean I mean, you look at the browser code then because You know they already extract for example transcripts. Yeah, I'm sure they do That's Oh, yeah I'm sure I'm making a made of it Yeah, I guess I mean It was a good point you have that like collaborating With Yeah, I mean if you are they started on yeah, yeah, yeah, I guess we can Share as much as possible. Yeah, why worry? Yeah, yeah Should we I don't know Meet up and see what we could do. I mean, I don't know see what you've done and see what we need Yeah, we know Next week Exactly so you're so you haven't done anything this week because this week's been manic Two days old well, whatever it was last week The week as it is rather than the proper week You're an LPN LPN SP2 And then we had to do an IRP Whatever it was last week is which is only a page long, but it's quite difficult to write a page Yeah, yeah, yeah It was wasn't fun, but it was I have to say anything about it for a bit Very tiny. Yeah, but SP and LPN So yeah, I was thinking that we'd generally yeah We're starting tacking this seriously Yeah, hopefully I'm something by next week that we can sort of try and do great into the group Mm-hmm. Yeah Well, the browsers I use it now or as you know, it was there when I took it And uses the The NXT search to get the data out of the files Which I think is odd, but I'm not quite sure how it works. I don't quite understand So when it when it To get the data for example to get the summarisation data you have to search for I think the ID use on something Yeah, I guess that's where it's got That is very small So they don't you know they don't say looking that in that folder but search everything He's pretty Well, they did say it wasn't the most efficient It does write up quite quickly But what it is like we know where you have to write it such query or is it just what's behind it? No, this is not the actual search. This is just when you open what you know to load the transcript for example To find the transcript for a certain meeting. It does an NXT search for the string I don't know transcript or text or whatever For and it like it just has an open variable, transcript, list, whatever find everything that's got that and then loads I don't know if you've looked at the search query language but it's like a dollar a text Yeah, yeah because that's the like it the closer variable doesn't it? And then yeah because every every of all of these These files have got an ID and all the transcript files have got the string I don't know what it is where the text or something in it so I just search it for those files When you like is there an open thingy or What are you like what did you do to like how do you figure out that this uses NXT search? Well it's in the code just that you define a search object and then search that string I had to figure out how to do the same thing for the summary that's the way I had to understand how to do the transcript, how they did the transcript to do some of the stuff Did you have to write it in the way that they wrote it? Is that what you did? Yeah, just search for a specific string What? You could just you know you could use that when you if you want to take the data out If you have a question about what the code means or where to find the code that you want it you know whatever you want to do then just send me email I can explain it Have you annotated your code? Oh yeah Oh yeah Actually in the moment it's got a load of rubbish because the the bras that are used from you know that they gave us Had a lot of extra stuff in and I'm dead thrown out just throughout all the functions of the house Just in case you're putting it in there Yeah, just in case you're putting it in there So they're all in there yet still a lot of rubbish but it will be it will be chucked out right at the end I think Coming coming to get out one bit of time running it Yeah So basically we got going this work Yeah That's just too The other stuff is a bit of a log in the short We can but we can still four days off Yeah Still a little bit of an amount is there How much is this? I think I should have that much to do Well should you be funny what to explore any other Yeah How should you run Quentify a raising I can't remember what I'm supposed to do by the way Am I supposed to do the summarisation thing you bought? No Who was doing it? You do Oh really? Well I'll do that then This can be changed Should I do that then? I don't know it doesn't matter if you want to I'll just play around with some extra stuff the other time Why not? You shouldn't be doing it So of course it should I pick to be not doing any work? Yeah I did in communications of which we had one exercise And I've done that like two weeks ago That's in two weeks So in paratics? Of course Yeah It's a nine call to roll ten or something And then I'm doing Palo programming languages and systems Which we had one exercise as well And that seemed like Friday Well I'm not doing any background reading So yeah Sorry You're just big Yeah I'll be happy when this week is over Have we ever win these courses? Yeah I don't know is that about it then Anything else we need to discuss? Did we want to meet before we talk to Steve next week? Well I don't know We'll probably get some work done over the weekend So I know after DNLG or something And we just have a little quick little update And just Yeah if you like We can always decide then Yeah exactly So what are you planning to do over the weekend then? Switch You're going to do the search Sure I couldn't be down on it It'll be still limited version of the next query Okay Won't be the whole thing Like we can just decide sort of things that we do want to do Actually most of just dialogue acts And this was And assembly It's just not I think we need to set ourselves some milestones Because otherwise Yeah I don't get We'll get by Like you said Actually do we want to set a date for In-term prototype specifically a date? Yes Or you decide I'm not Very much a prototype Oh my gosh The progress report is June 23rd February So what's that to me? Yeah Well how about we get it done by then? Yes Then we can write about it in the interim report Yes We've got some already shown So Just looking at my own deadlines See, yeah When the search interface Maybe you should decide pretty early What kind of things you want to be able to search for And then if you want you can give out to me now I'll build you nice few tick boxes And drop down menus Wasn't like what you had now Wasn't that pretty much what we read on Or was it just like that one? Oh that doesn't exist That's completely cut and pasted Okay That does not exist Nicely done the moment It's actually all these things that are mixed from You know all these drop down menus And tick boxes are mixed from Google And that's the screenshot of Google That's not the right Maybe you should make it exist then It's going to be a little difficult, more difficult Yeah I mean I was going to but you know The whole drop down menus and stuff What we want to search for is not quite agreed on We never agreed on what we want to Be able to search for No it's not So, I don't know what we can Yeah do you want to just get together and think about different types of search we could possibly do And then we could discuss it next meeting Which options we really want to include That would probably involve researching the query language a bit As well to see what that can do It would be nice to meet up And you can show us a bit But you know already so we don't have to do all the work again Just figuring out stuff No, just have the basics No already, just like accessing the corpus and stuff Just like all the n-seeing the code and just sort of how Just see the basics of what you've done Just get a quick look over and just Can take this for a tutorial Yeah, you know the class paths all that sort of thing Just say, okay, well here's everything's basically So do that Just show you what it is The code Then you see the excels go In the morning Oh yeah Well there's some IMD JT You can't do anything The only thing is, you know Something like that could happen anytime Yeah, like my schedule is like a class, break class, break class Yeah, I'm not gonna take it out Yeah, I know, exactly, yeah, that's what I'm thinking So it's something like that, and then if I have a class I can run off Yeah, pick a time Yeah, I mean, I know Monday might be good Yeah, what Monday Yeah, this Monday Anytime, not if noon or two or four No, in between those Yeah, like one or three Three o'clock? Actually, yeah Three or three It was one time today and I'll do four It's four and I see one I'll do after Yeah, that's an option too Yeah, yeah Okay Three is good, but we have It's like, whatever What was your, R330 I just That's a nice thing, I mean Three in the computer room in here And then we can just go in there though If you can't, can you get in the front door Oh, you haven't got a key, do you? Can none of you get in? We can get in through the computer rooms in here The MSc computer, I've not found that yet All right, it's in here Well, if you find me, I'll show you where I'll let us all in there and we can look out in there We can look now afterwards Yeah, yeah, yeah, yeah You do need to have a key for it, like that's the thing It's kind of a lot of door, but Yeah, somebody in the lunch box I was asking Steve about that, whether we can get in there Into what? Okay, yeah, it's only got this crap It's only got about four or five convince But it would do quite good for our job Because it can also, it's not very obnoxious Not many people in it, right? Is there a printer in there too? Yeah, there's a printer in there too And there's a fatescop here With the code on it Well, I'm just going to call it I'm not here, I'm not here, I'm not here I'm not here, I'm not here, I'm not here I've got it on my computer So what time do we say? I just think it's better to do it afterwards than we have all the time Yeah, that's right, yeah, then half an hour and then we'll Yeah, yeah Okay As long as D-Melt, she doesn't go late Hopefully it's not that man's It won't matter Actually, it's not even confirmed yet Was? She doesn't even know what she's talking about Maybe it doesn't happen at all It's really weak next week Should be, should be Really? Well, it's supposed to be Next week, it's weeks next week I don't think we have a reading week I don't know, we have one class at least When we like speech perception, we don't have any lectures But I think we have a lot of classes though There's not my point in it I don't think there was an official one last semester I think it was just a bank call, there was not Something like that Some classes did and some classes didn't Yeah, we should have been glad They didn't really know what was going to happen I think the undergraduate has had a world He goes up to the professor They didn't know Well, I don't feel like it I think D-I-L will probably have one to make up for missing classes What? D-I-L will probably Yeah, we will probably have Yeah, that's been the last week Okay, she needs me Monday Yeah I guess that's it Was there anything else? Do anyone know you want to take care of this or should I take care of it? Wait, trust you I don't know if there was something I think he basically said The same thing says in the comments If I could read it Can we read it? Can we come to the top one? Really want multiple windows from a single app? We will probably want to go with default Yeah, well, that was what you said Yeah, I think he commented basically saying this in his own sense Yeah, exactly, and just the other comment about Whether you want to do both speaker care and conversation and topic certain things Yeah, that was funny Yeah, and now we have 7% of the course on it That's good Let's pick it So we need to take the okay box right? If you're okay with it, having What is it? Sorry, you're off in it Yeah Should we turn these off? We're done now Is she still here? Yes, you are\n"
          ]
        }
      ]
    },
    {
      "cell_type": "code",
      "source": [
        "import time\n",
        "from jiwer import wer\n",
        "\n",
        "# --- Load reference transcript ---\n",
        "with open(\"refs/EN2002a.txt\", \"r\", encoding=\"utf-8\") as f:\n",
        "    reference = f.read()\n",
        "\n",
        "# --- Vosk transcription with timing ---\n",
        "start = time.time()\n",
        "vosk_text = transcribe_vosk(audio_file)\n",
        "vosk_time = time.time() - start\n",
        "\n",
        "# --- Whisper transcription with timing ---\n",
        "start = time.time()\n",
        "whisper_text = whisper_model.transcribe(audio_file)[\"text\"].strip()\n",
        "whisper_time = time.time() - start\n",
        "\n",
        "# --- Compute WER ---\n",
        "vosk_wer = wer(reference, vosk_text)\n",
        "whisper_wer = wer(reference, whisper_text)\n",
        "\n",
        "# --- Print results ---\n",
        "print(\"Benchmark Results for\", audio_file)\n",
        "print(f\" - Vosk    : WER = {vosk_wer:.3f} | Time = {vosk_time:.2f} sec\")\n",
        "print(f\" - Whisper : WER = {whisper_wer:.3f} | Time = {whisper_time:.2f} sec\")\n"
      ],
      "metadata": {
        "colab": {
          "base_uri": "https://localhost:8080/"
        },
        "id": "qKXUQag_PfQr",
        "outputId": "f4428908-1640-4dfe-b06b-ec36b356cb55"
      },
      "execution_count": null,
      "outputs": [
        {
          "output_type": "stream",
          "name": "stdout",
          "text": [
            "Benchmark Results for EN2002a.wav\n",
            " - Vosk    : WER = 6.383 | Time = 254.75 sec\n",
            " - Whisper : WER = 6.107 | Time = 114.45 sec\n"
          ]
        }
      ]
    },
    {
      "cell_type": "code",
      "source": [
        "import pandas as pd\n",
        "\n",
        "benchmark = pd.DataFrame([{\n",
        "    \"File\": \"EN2002a.wav\",\n",
        "    \"Vosk_WER\": round(vosk_wer, 3),\n",
        "    \"Whisper_WER\": round(whisper_wer, 3),\n",
        "    \"Vosk_Time_sec\": round(vosk_time, 2),\n",
        "    \"Whisper_Time_sec\": round(whisper_time, 2),\n",
        "}])\n",
        "\n",
        "benchmark\n"
      ],
      "metadata": {
        "colab": {
          "base_uri": "https://localhost:8080/",
          "height": 89
        },
        "id": "SaqsEYqdQ-j2",
        "outputId": "3f586e0a-5290-42be-e463-1509c6583dac"
      },
      "execution_count": null,
      "outputs": [
        {
          "output_type": "execute_result",
          "data": {
            "text/plain": [
              "          File  Vosk_WER  Whisper_WER  Vosk_Time_sec  Whisper_Time_sec\n",
              "0  EN2002a.wav     6.383        6.107         254.75            114.45"
            ],
            "text/html": [
              "\n",
              "  <div id=\"df-5eaf8cae-11c6-4ec5-90a5-170f0da38437\" class=\"colab-df-container\">\n",
              "    <div>\n",
              "<style scoped>\n",
              "    .dataframe tbody tr th:only-of-type {\n",
              "        vertical-align: middle;\n",
              "    }\n",
              "\n",
              "    .dataframe tbody tr th {\n",
              "        vertical-align: top;\n",
              "    }\n",
              "\n",
              "    .dataframe thead th {\n",
              "        text-align: right;\n",
              "    }\n",
              "</style>\n",
              "<table border=\"1\" class=\"dataframe\">\n",
              "  <thead>\n",
              "    <tr style=\"text-align: right;\">\n",
              "      <th></th>\n",
              "      <th>File</th>\n",
              "      <th>Vosk_WER</th>\n",
              "      <th>Whisper_WER</th>\n",
              "      <th>Vosk_Time_sec</th>\n",
              "      <th>Whisper_Time_sec</th>\n",
              "    </tr>\n",
              "  </thead>\n",
              "  <tbody>\n",
              "    <tr>\n",
              "      <th>0</th>\n",
              "      <td>EN2002a.wav</td>\n",
              "      <td>6.383</td>\n",
              "      <td>6.107</td>\n",
              "      <td>254.75</td>\n",
              "      <td>114.45</td>\n",
              "    </tr>\n",
              "  </tbody>\n",
              "</table>\n",
              "</div>\n",
              "    <div class=\"colab-df-buttons\">\n",
              "\n",
              "  <div class=\"colab-df-container\">\n",
              "    <button class=\"colab-df-convert\" onclick=\"convertToInteractive('df-5eaf8cae-11c6-4ec5-90a5-170f0da38437')\"\n",
              "            title=\"Convert this dataframe to an interactive table.\"\n",
              "            style=\"display:none;\">\n",
              "\n",
              "  <svg xmlns=\"http://www.w3.org/2000/svg\" height=\"24px\" viewBox=\"0 -960 960 960\">\n",
              "    <path d=\"M120-120v-720h720v720H120Zm60-500h600v-160H180v160Zm220 220h160v-160H400v160Zm0 220h160v-160H400v160ZM180-400h160v-160H180v160Zm440 0h160v-160H620v160ZM180-180h160v-160H180v160Zm440 0h160v-160H620v160Z\"/>\n",
              "  </svg>\n",
              "    </button>\n",
              "\n",
              "  <style>\n",
              "    .colab-df-container {\n",
              "      display:flex;\n",
              "      gap: 12px;\n",
              "    }\n",
              "\n",
              "    .colab-df-convert {\n",
              "      background-color: #E8F0FE;\n",
              "      border: none;\n",
              "      border-radius: 50%;\n",
              "      cursor: pointer;\n",
              "      display: none;\n",
              "      fill: #1967D2;\n",
              "      height: 32px;\n",
              "      padding: 0 0 0 0;\n",
              "      width: 32px;\n",
              "    }\n",
              "\n",
              "    .colab-df-convert:hover {\n",
              "      background-color: #E2EBFA;\n",
              "      box-shadow: 0px 1px 2px rgba(60, 64, 67, 0.3), 0px 1px 3px 1px rgba(60, 64, 67, 0.15);\n",
              "      fill: #174EA6;\n",
              "    }\n",
              "\n",
              "    .colab-df-buttons div {\n",
              "      margin-bottom: 4px;\n",
              "    }\n",
              "\n",
              "    [theme=dark] .colab-df-convert {\n",
              "      background-color: #3B4455;\n",
              "      fill: #D2E3FC;\n",
              "    }\n",
              "\n",
              "    [theme=dark] .colab-df-convert:hover {\n",
              "      background-color: #434B5C;\n",
              "      box-shadow: 0px 1px 3px 1px rgba(0, 0, 0, 0.15);\n",
              "      filter: drop-shadow(0px 1px 2px rgba(0, 0, 0, 0.3));\n",
              "      fill: #FFFFFF;\n",
              "    }\n",
              "  </style>\n",
              "\n",
              "    <script>\n",
              "      const buttonEl =\n",
              "        document.querySelector('#df-5eaf8cae-11c6-4ec5-90a5-170f0da38437 button.colab-df-convert');\n",
              "      buttonEl.style.display =\n",
              "        google.colab.kernel.accessAllowed ? 'block' : 'none';\n",
              "\n",
              "      async function convertToInteractive(key) {\n",
              "        const element = document.querySelector('#df-5eaf8cae-11c6-4ec5-90a5-170f0da38437');\n",
              "        const dataTable =\n",
              "          await google.colab.kernel.invokeFunction('convertToInteractive',\n",
              "                                                    [key], {});\n",
              "        if (!dataTable) return;\n",
              "\n",
              "        const docLinkHtml = 'Like what you see? Visit the ' +\n",
              "          '<a target=\"_blank\" href=https://colab.research.google.com/notebooks/data_table.ipynb>data table notebook</a>'\n",
              "          + ' to learn more about interactive tables.';\n",
              "        element.innerHTML = '';\n",
              "        dataTable['output_type'] = 'display_data';\n",
              "        await google.colab.output.renderOutput(dataTable, element);\n",
              "        const docLink = document.createElement('div');\n",
              "        docLink.innerHTML = docLinkHtml;\n",
              "        element.appendChild(docLink);\n",
              "      }\n",
              "    </script>\n",
              "  </div>\n",
              "\n",
              "\n",
              "  <div id=\"id_ac0cc322-8fdd-480d-b6a7-f991c676c52a\">\n",
              "    <style>\n",
              "      .colab-df-generate {\n",
              "        background-color: #E8F0FE;\n",
              "        border: none;\n",
              "        border-radius: 50%;\n",
              "        cursor: pointer;\n",
              "        display: none;\n",
              "        fill: #1967D2;\n",
              "        height: 32px;\n",
              "        padding: 0 0 0 0;\n",
              "        width: 32px;\n",
              "      }\n",
              "\n",
              "      .colab-df-generate:hover {\n",
              "        background-color: #E2EBFA;\n",
              "        box-shadow: 0px 1px 2px rgba(60, 64, 67, 0.3), 0px 1px 3px 1px rgba(60, 64, 67, 0.15);\n",
              "        fill: #174EA6;\n",
              "      }\n",
              "\n",
              "      [theme=dark] .colab-df-generate {\n",
              "        background-color: #3B4455;\n",
              "        fill: #D2E3FC;\n",
              "      }\n",
              "\n",
              "      [theme=dark] .colab-df-generate:hover {\n",
              "        background-color: #434B5C;\n",
              "        box-shadow: 0px 1px 3px 1px rgba(0, 0, 0, 0.15);\n",
              "        filter: drop-shadow(0px 1px 2px rgba(0, 0, 0, 0.3));\n",
              "        fill: #FFFFFF;\n",
              "      }\n",
              "    </style>\n",
              "    <button class=\"colab-df-generate\" onclick=\"generateWithVariable('benchmark')\"\n",
              "            title=\"Generate code using this dataframe.\"\n",
              "            style=\"display:none;\">\n",
              "\n",
              "  <svg xmlns=\"http://www.w3.org/2000/svg\" height=\"24px\"viewBox=\"0 0 24 24\"\n",
              "       width=\"24px\">\n",
              "    <path d=\"M7,19H8.4L18.45,9,17,7.55,7,17.6ZM5,21V16.75L18.45,3.32a2,2,0,0,1,2.83,0l1.4,1.43a1.91,1.91,0,0,1,.58,1.4,1.91,1.91,0,0,1-.58,1.4L9.25,21ZM18.45,9,17,7.55Zm-12,3A5.31,5.31,0,0,0,4.9,8.1,5.31,5.31,0,0,0,1,6.5,5.31,5.31,0,0,0,4.9,4.9,5.31,5.31,0,0,0,6.5,1,5.31,5.31,0,0,0,8.1,4.9,5.31,5.31,0,0,0,12,6.5,5.46,5.46,0,0,0,6.5,12Z\"/>\n",
              "  </svg>\n",
              "    </button>\n",
              "    <script>\n",
              "      (() => {\n",
              "      const buttonEl =\n",
              "        document.querySelector('#id_ac0cc322-8fdd-480d-b6a7-f991c676c52a button.colab-df-generate');\n",
              "      buttonEl.style.display =\n",
              "        google.colab.kernel.accessAllowed ? 'block' : 'none';\n",
              "\n",
              "      buttonEl.onclick = () => {\n",
              "        google.colab.notebook.generateWithVariable('benchmark');\n",
              "      }\n",
              "      })();\n",
              "    </script>\n",
              "  </div>\n",
              "\n",
              "    </div>\n",
              "  </div>\n"
            ],
            "application/vnd.google.colaboratory.intrinsic+json": {
              "type": "dataframe",
              "variable_name": "benchmark",
              "summary": "{\n  \"name\": \"benchmark\",\n  \"rows\": 1,\n  \"fields\": [\n    {\n      \"column\": \"File\",\n      \"properties\": {\n        \"dtype\": \"string\",\n        \"num_unique_values\": 1,\n        \"samples\": [\n          \"EN2002a.wav\"\n        ],\n        \"semantic_type\": \"\",\n        \"description\": \"\"\n      }\n    },\n    {\n      \"column\": \"Vosk_WER\",\n      \"properties\": {\n        \"dtype\": \"number\",\n        \"std\": null,\n        \"min\": 6.383,\n        \"max\": 6.383,\n        \"num_unique_values\": 1,\n        \"samples\": [\n          6.383\n        ],\n        \"semantic_type\": \"\",\n        \"description\": \"\"\n      }\n    },\n    {\n      \"column\": \"Whisper_WER\",\n      \"properties\": {\n        \"dtype\": \"number\",\n        \"std\": null,\n        \"min\": 6.107,\n        \"max\": 6.107,\n        \"num_unique_values\": 1,\n        \"samples\": [\n          6.107\n        ],\n        \"semantic_type\": \"\",\n        \"description\": \"\"\n      }\n    },\n    {\n      \"column\": \"Vosk_Time_sec\",\n      \"properties\": {\n        \"dtype\": \"number\",\n        \"std\": null,\n        \"min\": 254.75,\n        \"max\": 254.75,\n        \"num_unique_values\": 1,\n        \"samples\": [\n          254.75\n        ],\n        \"semantic_type\": \"\",\n        \"description\": \"\"\n      }\n    },\n    {\n      \"column\": \"Whisper_Time_sec\",\n      \"properties\": {\n        \"dtype\": \"number\",\n        \"std\": null,\n        \"min\": 114.45,\n        \"max\": 114.45,\n        \"num_unique_values\": 1,\n        \"samples\": [\n          114.45\n        ],\n        \"semantic_type\": \"\",\n        \"description\": \"\"\n      }\n    }\n  ]\n}"
            }
          },
          "metadata": {},
          "execution_count": 35
        }
      ]
    },
    {
      "cell_type": "code",
      "source": [
        "os.makedirs(\"outputs\", exist_ok=True)\n",
        "csv_path = \"outputs/benchmark_report_EN2002a.csv\"\n",
        "benchmark.to_csv(csv_path, index=False)\n",
        "print(\"Benchmark report saved to:\", csv_path)\n"
      ],
      "metadata": {
        "colab": {
          "base_uri": "https://localhost:8080/"
        },
        "id": "tPExwWk7RKeX",
        "outputId": "8684e9d0-b43a-4c7a-8af9-bded6c1b9851"
      },
      "execution_count": null,
      "outputs": [
        {
          "output_type": "stream",
          "name": "stdout",
          "text": [
            "Benchmark report saved to: outputs/benchmark_report_EN2002a.csv\n"
          ]
        }
      ]
    },
    {
      "cell_type": "code",
      "source": [
        "import matplotlib.pyplot as plt\n",
        "\n",
        "labels = [\"Vosk\", \"Whisper\"]\n",
        "wers = [vosk_wer, whisper_wer]\n",
        "\n",
        "plt.figure(figsize=(6,4))\n",
        "plt.bar(labels, wers)\n",
        "plt.ylabel(\"WER\")\n",
        "plt.title(\"WER Comparison on EN2002a.wav\")\n",
        "plt.show()\n"
      ],
      "metadata": {
        "colab": {
          "base_uri": "https://localhost:8080/",
          "height": 391
        },
        "id": "snUhDXXPRau2",
        "outputId": "ab0ea971-cd48-4115-bfc6-da5b86148be6"
      },
      "execution_count": null,
      "outputs": [
        {
          "output_type": "display_data",
          "data": {
            "text/plain": [
              "<Figure size 600x400 with 1 Axes>"
            ],
            "image/png": "[encoded data removed]"
          },
          "metadata": {}
        }
      ]
    }
  ]
}